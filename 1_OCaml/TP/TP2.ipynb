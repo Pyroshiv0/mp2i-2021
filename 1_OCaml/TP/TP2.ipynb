{
 "cells": [
  {
   "cell_type": "markdown",
   "id": "5d6a2457",
   "metadata": {},
   "source": [
    "# TP 2 : récursivité et conditions\n",
    "\n",
    "Dans tout le TP, il est interdit d'utiliser des boucles (pas de `for` ni `while`).\n",
    "\n",
    "Rappel : pensez à tester toutes vos fonctions sur des exemples."
   ]
  },
  {
   "cell_type": "markdown",
   "id": "42f52927",
   "metadata": {},
   "source": [
    "## Petites questions\n",
    "\n",
    "1. Définir une fonction `divise` telle que `divise a b` renvoie `true` si  `a` divise `b`, `false` sinon. Il est interdit d'utiliser `if`.\n",
    "2. Définir une fonction récursive `somme` telle que `somme n` renvoie $\\sum_{k=1}^n k^2$.\n",
    "3. Définir une fonction récursive `u` telle que `u n` renvoie $u_n$ définie par :\n",
    "$$u_0 = 42$$\n",
    "$$u_{n} = 3\\sqrt{u_{n - 1}} + 2$$\n",
    "4. Définir une fonction récursive `v` telle que `v a n` renvoie $v_n$ définie par (on fera attention à n'utiliser qu'un appel récursif) :\n",
    "$$v_0 = a$$\n",
    "$$v_{n + 1} = \\frac{1}{2}(v_n + \\frac{a}{v_n})$$\n",
    "5. Calculer `v a n` pour plusieurs valeurs de `a` et de `n` : que peut-on conjecturer sur la limite de $v_n$ ? Optionnel : le démontrer.  \n",
    "6. Soient $a$ et $b$ deux entiers et $q, r$ le quotient et reste de la division euclidienne de $a$ par $b$ ($a = bq + r$). En utilisant le fait que $PGCD(a, b)$ = $PGCD(b, r)$, écrire une fonction `euclide` telle que `euclide a b` renvoie le PGCD de $a$ et $b$."
   ]
  },
  {
   "cell_type": "code",
   "execution_count": 6,
   "id": "633491ca-e467-437c-8765-5f8433b459ae",
   "metadata": {},
   "outputs": [
    {
     "data": {
      "text/plain": [
       "val divise : int -> int -> bool = <fun>\n"
      ]
     },
     "execution_count": 6,
     "metadata": {},
     "output_type": "execute_result"
    }
   ],
   "source": [
    "let divise a b =\n",
    "    a/b != 0\n"
   ]
  },
  {
   "cell_type": "code",
   "execution_count": 8,
   "id": "a3bfd1f6-eea9-4573-bc7b-7d5d28adde86",
   "metadata": {},
   "outputs": [
    {
     "data": {
      "text/plain": [
       "- : bool = false\n"
      ]
     },
     "execution_count": 8,
     "metadata": {},
     "output_type": "execute_result"
    }
   ],
   "source": [
    "divise 2 3"
   ]
  },
  {
   "cell_type": "code",
   "execution_count": 30,
   "id": "daee54c6-8cbe-41c5-bc6c-57c667012e34",
   "metadata": {},
   "outputs": [
    {
     "data": {
      "text/plain": [
       "val somme : int -> int = <fun>\n"
      ]
     },
     "execution_count": 30,
     "metadata": {},
     "output_type": "execute_result"
    }
   ],
   "source": [
    "let rec somme n =\n",
    "    if n = 1\n",
    "    then 1\n",
    "    else n*n + somme (n-1)"
   ]
  },
  {
   "cell_type": "code",
   "execution_count": 31,
   "id": "00f1b326-173b-4b0d-9558-59fbac712fdb",
   "metadata": {},
   "outputs": [
    {
     "data": {
      "text/plain": [
       "- : int = 14\n"
      ]
     },
     "execution_count": 31,
     "metadata": {},
     "output_type": "execute_result"
    }
   ],
   "source": [
    "somme 3"
   ]
  },
  {
   "cell_type": "code",
   "execution_count": 40,
   "id": "060926b5-ca1d-4b12-b297-64f7096111bc",
   "metadata": {},
   "outputs": [
    {
     "data": {
      "text/plain": [
       "val u : float -> float = <fun>\n"
      ]
     },
     "execution_count": 40,
     "metadata": {},
     "output_type": "execute_result"
    }
   ],
   "source": [
    "let rec u n =\n",
    "    if n = 0.\n",
    "    then 42.\n",
    "    else 3.*. u(n-.1.)**0.5 +.2."
   ]
  },
  {
   "cell_type": "code",
   "execution_count": 46,
   "id": "3c0e5821-5d55-4c64-8a77-b05aaead9e1c",
   "metadata": {},
   "outputs": [
    {
     "data": {
      "text/plain": [
       "- : float = 21.4422220952235811\n"
      ]
     },
     "execution_count": 46,
     "metadata": {},
     "output_type": "execute_result"
    }
   ],
   "source": [
    "u 1."
   ]
  },
  {
   "cell_type": "code",
   "execution_count": 21,
   "id": "92072e61-6a00-4e08-ad60-d151efe08b3b",
   "metadata": {},
   "outputs": [
    {
     "data": {
      "text/plain": [
       "val v : float -> float -> float = <fun>\n"
      ]
     },
     "execution_count": 21,
     "metadata": {},
     "output_type": "execute_result"
    }
   ],
   "source": [
    "let rec v a n =\n",
    "    if n = a\n",
    "    then a\n",
    "    else let x = v a (n -.1.) in\n",
    "         0.5 *. (x +. (a/. x));"
   ]
  },
  {
   "cell_type": "code",
   "execution_count": 52,
   "id": "d45b70ec-69b5-4836-8eba-48e245392f5e",
   "metadata": {},
   "outputs": [
    {
     "data": {
      "text/plain": [
       "- : float = 1.41421568627450966\n"
      ]
     },
     "execution_count": 52,
     "metadata": {},
     "output_type": "execute_result"
    }
   ],
   "source": [
    "v 2. 5."
   ]
  },
  {
   "cell_type": "markdown",
   "id": "52793e63-8bac-4430-9ddf-ab705bc308f5",
   "metadata": {},
   "source": [
    "5. Il semblerait que lim (Vn) = sqrt (a)"
   ]
  },
  {
   "cell_type": "code",
   "execution_count": 39,
   "id": "cea19362-328d-451a-9941-8bf952543f35",
   "metadata": {},
   "outputs": [
    {
     "data": {
      "text/plain": [
       "val euclide : int -> int -> int = <fun>\n"
      ]
     },
     "execution_count": 39,
     "metadata": {},
     "output_type": "execute_result"
    }
   ],
   "source": [
    "let rec euclide a b =\n",
    "    if b = 0\n",
    "    then a\n",
    "    else let r = a mod b in\n",
    "         euclide b r;"
   ]
  },
  {
   "cell_type": "code",
   "execution_count": 41,
   "id": "d9e094b8-c810-4038-aecf-988a4da4b92f",
   "metadata": {},
   "outputs": [
    {
     "data": {
      "text/plain": [
       "- : int = 10\n"
      ]
     },
     "execution_count": 41,
     "metadata": {},
     "output_type": "execute_result"
    }
   ],
   "source": [
    "euclide 30 10"
   ]
  },
  {
   "cell_type": "markdown",
   "id": "7cf05809",
   "metadata": {},
   "source": [
    "## Exponentiation rapide\n",
    "\n",
    "1. Écrire une fonction récursive `puissance` naïve (c'est à dire très simple) telle que `puissance a n` renvoie $a^n$. Combien effectue t-elle de multiplications (en fonction de n) ?\n",
    "2. Écrire une fonction récursive `exp_rapide` pour calculer $a^n$, en utilisant les relations suivantes :\n",
    "$$ \n",
    "\\begin{cases} \n",
    "a^n = (a^{\\frac{n}{2}})^2 ~~~~~~~~~\\text{si }n\\text{ est pair}\\\\\n",
    "a^{n} = a \\times (a^{\\frac{n-1}{2}})^2 ~~~~~\\text{sinon}\n",
    "\\end{cases}\n",
    "$$\n",
    "**Attention** : pour mettre au carré, utiliser une variable plutôt que faire 2 appels récursifs, ce qui augmenterait beaucoup le nombre d'opérations.  \n",
    "**Remarque** : On montrera plus tard que cette 2ème version demande de l'ordre de $\\ln(n)$ multiplications seulement."
   ]
  },
  {
   "cell_type": "code",
   "execution_count": 71,
   "id": "19892d62-a74e-4fa5-bc39-d433c9706198",
   "metadata": {},
   "outputs": [
    {
     "data": {
      "text/plain": [
       "val puissance : int -> int -> int = <fun>\n"
      ]
     },
     "execution_count": 71,
     "metadata": {},
     "output_type": "execute_result"
    }
   ],
   "source": [
    "let rec puissance a n =\n",
    "    if n = 0\n",
    "    then 1\n",
    "    else a * puissance a (n-1)"
   ]
  },
  {
   "cell_type": "code",
   "execution_count": 73,
   "id": "6f53c0f2-3965-45d9-a1f6-26ff0fb47e51",
   "metadata": {},
   "outputs": [
    {
     "data": {
      "text/plain": [
       "- : int = 4\n"
      ]
     },
     "execution_count": 73,
     "metadata": {},
     "output_type": "execute_result"
    }
   ],
   "source": [
    "puissance 2 2"
   ]
  },
  {
   "cell_type": "code",
   "execution_count": 107,
   "id": "436c0ae0-3aae-417c-ac3f-9daa7c65e7d3",
   "metadata": {},
   "outputs": [
    {
     "data": {
      "text/plain": [
       "val exp_rapide : int -> int -> int = <fun>\n"
      ]
     },
     "execution_count": 107,
     "metadata": {},
     "output_type": "execute_result"
    }
   ],
   "source": [
    "let rec exp_rapide a n =\n",
    "    if n = 0\n",
    "    then 1\n",
    "    else if n mod 2 = 0\n",
    "        then (exp_rapide a (n/2) )  * (exp_rapide a (n/2) ) \n",
    "        else (a * exp_rapide a ((n-1)/2) ) (* * (a * exp_rapide a ((n-1) /2) ) *)"
   ]
  },
  {
   "cell_type": "code",
   "execution_count": 108,
   "id": "c0cfa8ae-719c-4747-802d-932ae9e8e257",
   "metadata": {},
   "outputs": [
    {
     "data": {
      "text/plain": [
       "- : int = 4\n"
      ]
     },
     "execution_count": 108,
     "metadata": {},
     "output_type": "execute_result"
    }
   ],
   "source": [
    "exp_rapide 2 3"
   ]
  },
  {
   "cell_type": "markdown",
   "id": "f299ef52",
   "metadata": {},
   "source": [
    "# Accumulateur\n",
    "\n",
    "On a vu dans le cours sur la récursivité (avec l'exemple de la suite de Fibonacci) qu'un accumulateur est un argument que l'on ajoute à une fonction pour calculer sa valeur de retour.  \n",
    "1. Écrire une fonction `fact` telle que `fact acc n` renvoie `n`!, en utilisant `acc` comme accumulateur. Voici à quoi va ressemble `fact` :\n",
    "```ocaml\n",
    "let rec fact acc n =\n",
    "    if n = 0 then acc  (* on renvoie l'accumulateur qui contient le résultat *)\n",
    "    else fact ... (* appel récursif en modifiant l'accumulateur *)\n",
    "```\n",
    "2. En utilisant `fact` et l'application partielle de fonction, définir `f : int -> int` renvoyant la factoielle d'un entier.\n",
    "\n",
    "**Remarque** : le but ici est juste de vous entraîner à savoir utiliser un accumulateur, qui sont parfois utiles (comme pour la fonction `fibo` du cours). En DS ou concours on évitera d'utiliser un accumulateur lorsqu'il y en a pas besoin (comme pour la fonction `fact`...), car cela rend le code plus compliqué.  "
   ]
  },
  {
   "cell_type": "code",
   "execution_count": 6,
   "id": "9b8d0ba0-d207-4c17-acc0-fcb8a8ed368d",
   "metadata": {},
   "outputs": [
    {
     "data": {
      "text/plain": [
       "val fact : int -> int -> int = <fun>\n"
      ]
     },
     "execution_count": 6,
     "metadata": {},
     "output_type": "execute_result"
    }
   ],
   "source": [
    "let rec fact acc n=\n",
    "    if n = 0 then acc\n",
    "    else fact (acc*n) (n-1);\n"
   ]
  },
  {
   "cell_type": "code",
   "execution_count": 8,
   "id": "be6c8a77-50d5-40ed-8269-8f1f0e3ebcc8",
   "metadata": {},
   "outputs": [
    {
     "data": {
      "text/plain": [
       "- : int = 40320\n"
      ]
     },
     "execution_count": 8,
     "metadata": {},
     "output_type": "execute_result"
    }
   ],
   "source": [
    "fact 1 8"
   ]
  },
  {
   "cell_type": "code",
   "execution_count": 10,
   "id": "0b6b27e0-8351-46b9-a503-44481b3582ff",
   "metadata": {
    "tags": []
   },
   "outputs": [
    {
     "data": {
      "text/plain": [
       "- : int = 40320\n"
      ]
     },
     "execution_count": 10,
     "metadata": {},
     "output_type": "execute_result"
    }
   ],
   "source": [
    "8*7*6*5*4*3*2"
   ]
  },
  {
   "cell_type": "code",
   "execution_count": 11,
   "id": "073a5781-f62b-432e-82cf-295951a49a56",
   "metadata": {},
   "outputs": [
    {
     "data": {
      "text/plain": [
       "val fact1 : int -> int = <fun>\n"
      ]
     },
     "execution_count": 11,
     "metadata": {},
     "output_type": "execute_result"
    }
   ],
   "source": [
    "let fact1 n= fact 1 n"
   ]
  },
  {
   "cell_type": "code",
   "execution_count": 12,
   "id": "fc05b6f0-9d58-4e75-b466-4a4c576b29fd",
   "metadata": {},
   "outputs": [
    {
     "data": {
      "text/plain": [
       "- : int = 40320\n"
      ]
     },
     "execution_count": 12,
     "metadata": {},
     "output_type": "execute_result"
    }
   ],
   "source": [
    "fact1 8"
   ]
  },
  {
   "cell_type": "markdown",
   "id": "56db1136",
   "metadata": {},
   "source": [
    "## Temps de vol de la suite de Syracuse\n",
    "\n",
    "La suite de Syracuse d'un entier $a$ est définie par :  \n",
    "$$u_0 = a$$\n",
    "$$u_{n+1} =\n",
    "\\begin{cases} \n",
    "     \\frac{u_n}{2}, \\text{si } n \\text{ est pair}\\\\\n",
    "    3u_n + 1, \\text{sinon}\\\\\n",
    "\\end{cases}$$\n",
    "\n",
    "Le temps de vol de $(u_n)_n$ est le plus petit entier $t$ tel que $u_t = 1$.  \n",
    "\n",
    "1. Écrire une fonction récursive `temps_vol` telle que `temps_vol a` renvoie le temps de vol de $(u_n)_n$ (où $u_0 = a$)."
   ]
  },
  {
   "cell_type": "code",
   "execution_count": 28,
   "id": "ef50f64f-a2b2-4444-a65d-0d40077a8ea4",
   "metadata": {},
   "outputs": [
    {
     "data": {
      "text/plain": [
       "val temps_vol : int -> int = <fun>\n"
      ]
     },
     "execution_count": 28,
     "metadata": {},
     "output_type": "execute_result"
    }
   ],
   "source": [
    "let rec temps_vol a=\n",
    "    if a =1 then 0 \n",
    "    else\n",
    "        if a mod 2 =0 then (temps_vol (a/2))+1\n",
    "        else (temps_vol((3*a)+1))+1;"
   ]
  },
  {
   "cell_type": "code",
   "execution_count": 33,
   "id": "56f68aef-6cd8-4412-9a16-7c973b3f8706",
   "metadata": {},
   "outputs": [
    {
     "data": {
      "text/plain": [
       "- : int = 17\n"
      ]
     },
     "execution_count": 33,
     "metadata": {},
     "output_type": "execute_result"
    }
   ],
   "source": [
    "temps_vol  15"
   ]
  },
  {
   "cell_type": "markdown",
   "id": "c0cc5d04",
   "metadata": {
    "tags": []
   },
   "source": [
    "## Fonction mystérieuse\n",
    "\n",
    "Tester la fonction suivante, conjecturer un théorème et prouvez-le par récurrence."
   ]
  },
  {
   "cell_type": "code",
   "execution_count": 34,
   "id": "932da7d9-a3f5-4c04-92c7-20514c35f00f",
   "metadata": {},
   "outputs": [
    {
     "data": {
      "text/plain": [
       "val f : int -> int = <fun>\n"
      ]
     },
     "execution_count": 34,
     "metadata": {},
     "output_type": "execute_result"
    }
   ],
   "source": [
    " let rec f n =\n",
    "    if n > 100 then n - 10 \n",
    "    else f (f (n + 11)) ;;"
   ]
  },
  {
   "cell_type": "code",
   "execution_count": 35,
   "id": "e23e4e6a-9249-4951-a82c-467a7ecfdf74",
   "metadata": {},
   "outputs": [
    {
     "data": {
      "text/plain": [
       "- : int = 91\n"
      ]
     },
     "execution_count": 35,
     "metadata": {},
     "output_type": "execute_result"
    }
   ],
   "source": [
    "f 1"
   ]
  },
  {
   "cell_type": "code",
   "execution_count": 39,
   "id": "91ebe24a-1f26-4cae-a64b-fa816c9e9a28",
   "metadata": {},
   "outputs": [
    {
     "data": {
      "text/plain": [
       "- : int = 91\n"
      ]
     },
     "execution_count": 39,
     "metadata": {},
     "output_type": "execute_result"
    }
   ],
   "source": [
    "f 101"
   ]
  },
  {
   "cell_type": "markdown",
   "id": "7e197a08-5dba-41dd-b7fd-ca16bd6d7fd4",
   "metadata": {},
   "source": [
    " si n > 100-> n-10\n",
    "sinon n -> n+11\n",
    "donc on émet la conjecture:Pn:\" pour tout n<= 101,f(n)=91\"\n",
    "f(101)=91\n",
    "comme n=101 est vraie,on suppose que Pn est vraie pour tout n <= 100\n",
    "f(100)=f(111)=91\n",
    "donc,sur un intervalle n € [90,101[\n",
    "]\n",
    "Pn reste vraie.\n",
    "Or,si Pn est vraie pour,cet intervalles,elle l'est aussi pour n€ [80,91[\n",
    "]\n",
    "car on a n<100 et que l'on fait n=n+11.si la propriété est vraie pour ces deux intervalles,elle est alors vraie pour tout les autres intervalles inférieur à 101.Donc pour n<=101,Pn est vraie"
   ]
  },
  {
   "cell_type": "markdown",
   "id": "5ce213d3",
   "metadata": {
    "tags": []
   },
   "source": [
    "## Fonctions mutuellement récursives\n",
    "\n",
    "Il est possible de définir simultanément deux fonctions `f` et `g`, dépendant l'une de l'autre avec `and` :\n",
    "```ocaml\n",
    "let rec f x = ... and g y = ... in ...\n",
    "```\n",
    "\n",
    "Écrire deux fonctions `u` et `v` permettant de calculer le $nième$ terme des suites définies par :\n",
    "$$u_0 = 2$$\n",
    "$$v_0 = 3$$\n",
    "$$u_{n + 1} = u_n - u_n v_n$$\n",
    "$$v_{n + 1} = v_n + u_n v_n$$"
   ]
  },
  {
   "cell_type": "code",
   "execution_count": null,
   "id": "4062a230-1a17-4041-805a-4c9fa83306f0",
   "metadata": {},
   "outputs": [],
   "source": [
    "let rec u n=if n=0. then 2. \n",
    "    else u (n-.1.) -.(u (n-.1.) *. v (n-.1.))\n",
    "    and v n = if n=0. then 3. \n",
    "    else v(n-.1.)+.(u (n-.1.) *. v (n-.1.)) "
   ]
  },
  {
   "cell_type": "code",
   "execution_count": null,
   "id": "9200fadf-5de1-4300-a5f6-e4da8600558f",
   "metadata": {},
   "outputs": [],
   "source": [
    "u 1."
   ]
  },
  {
   "cell_type": "code",
   "execution_count": 11,
   "id": "97d70336-3c56-4fee-b296-1b77599c13bd",
   "metadata": {},
   "outputs": [
    {
     "data": {
      "text/plain": [
       "- : float = 9.\n"
      ]
     },
     "execution_count": 11,
     "metadata": {},
     "output_type": "execute_result"
    }
   ],
   "source": [
    "v 1."
   ]
  },
  {
   "cell_type": "code",
   "execution_count": 13,
   "id": "1bccfedb-b2a3-4483-afd2-1df66fec780b",
   "metadata": {},
   "outputs": [
    {
     "data": {
      "text/plain": [
       "- : float = 32.\n"
      ]
     },
     "execution_count": 13,
     "metadata": {},
     "output_type": "execute_result"
    }
   ],
   "source": [
    "u 2."
   ]
  },
  {
   "cell_type": "code",
   "execution_count": 14,
   "id": "e7d408f6-403e-41d2-86bd-56d4bd3b471e",
   "metadata": {},
   "outputs": [
    {
     "data": {
      "text/plain": [
       "- : float = -27.\n"
      ]
     },
     "execution_count": 14,
     "metadata": {},
     "output_type": "execute_result"
    }
   ],
   "source": [
    "v 2."
   ]
  },
  {
   "cell_type": "code",
   "execution_count": null,
   "id": "900d25c6-9efc-457e-a435-c8c91e23d56d",
   "metadata": {},
   "outputs": [],
   "source": [
    "u 1."
   ]
  },
  {
   "cell_type": "markdown",
   "id": "93314856",
   "metadata": {},
   "source": [
    "## Retour sur les tours de Hanoi\n",
    "\n",
    "**Remarque** : le problème des tours de Hanoi a déjà été vu en stage, mais on le refait ici en OCaml. En outre, il est utile de réactiver sa mémoire pour se souvenir des méthodes et il m'arrivera pendant l'année de redonner des exercices déjà posés."
   ]
  },
  {
   "cell_type": "markdown",
   "id": "83ab905e",
   "metadata": {},
   "source": [
    "![](../img/hanoi.png)\n",
    "\n",
    "$n$ disques sont posés sur la tige à gauche. L'objectif est de déplacer tous les disques sur la tige à droite :\n",
    "\n",
    "![](../img/hanoi2.png)\n",
    "\n",
    "Règles du jeu :\n",
    "\n",
    "- On ne peut déplacer qu'un disque à la fois (celui tout en haut), sur une autre tige.\n",
    "- Il est interdit de poser un disque sur un autre plus petit.\n",
    "\n",
    "Exemple de premier déplacement valide :\n",
    "\n",
    "![](../img/hanoi3.png)\n",
    "\n",
    "On souhaite écrire une fonction récursive `hanoi` telle que `hanoi n tige1 tige2` affiche une suite de déplacements (avec des `print_int`) permettant de déplacer $n$ disques depuis `tige1` vers `tige2`. On supposera que les tiges sont numérotées 0, 1, 2 (de gauche à droite).\n",
    "\n",
    "1. Supposons que vous sachiez déplacer $n-1$ disques d'une tige à une autre. Comment déplacer $n$ disques d'une tige à une autre ?\n",
    "2. Écrire `hanoi`."
   ]
  },
  {
   "cell_type": "markdown",
   "id": "fb3baa7c-c1a0-4e0b-bf59-e4174e05f390",
   "metadata": {},
   "source": [
    "1.si on sait déplacer n-1 disques en 1,il suffit de déplacer le dernier disque 2 er enfin de déplacer les autres disques en 2"
   ]
  },
  {
   "cell_type": "code",
   "execution_count": 22,
   "id": "dc687ecd-8051-42c5-86b7-4ea06791559e",
   "metadata": {},
   "outputs": [
    {
     "data": {
      "text/plain": [
       "val hanoi : int -> int -> int -> int -> unit = <fun>\n"
      ]
     },
     "execution_count": 22,
     "metadata": {},
     "output_type": "execute_result"
    }
   ],
   "source": [
    "let rec hanoi n tige1 tige2 tigevide= \n",
    "    if n= 1 then (Format.printf \"déplacement de %d vers %d \\n\" tige1 tige2; print_newline())\n",
    "    else (hanoi (n-1) tige1 tigevide tige2;\n",
    "        (Format.printf \"déplacement de %d vers %d \\n\" tige1 tige2);\n",
    "        print_newline();\n",
    "        hanoi(n-1)tigevide tige2 tige1;)\n",
    "        "
   ]
  },
  {
   "cell_type": "code",
   "execution_count": 23,
   "id": "3882a2fc-7934-4164-891f-10aa422d1a6f",
   "metadata": {},
   "outputs": [
    {
     "name": "stdout",
     "output_type": "stream",
     "text": [
      "déplacement de 0 vers 2 \n",
      "\n",
      "déplacement de 0 vers 1 \n",
      "\n",
      "déplacement de 2 vers 1 \n",
      "\n",
      "déplacement de 0 vers 2 \n",
      "\n",
      "déplacement de 1 vers 0 \n",
      "\n",
      "déplacement de 1 vers 2 \n",
      "\n",
      "déplacement de 0 vers 2 \n",
      "\n"
     ]
    },
    {
     "data": {
      "text/plain": [
       "- : unit = ()\n"
      ]
     },
     "execution_count": 23,
     "metadata": {},
     "output_type": "execute_result"
    }
   ],
   "source": [
    "hanoi 3 0 2 1;\n"
   ]
  }
 ],
 "metadata": {
  "kernelspec": {
   "display_name": "OCaml default",
   "language": "OCaml",
   "name": "ocaml-jupyter"
  },
  "language_info": {
   "codemirror_mode": "text/x-ocaml",
   "file_extension": ".ml",
   "mimetype": "text/x-ocaml",
   "name": "OCaml",
   "nbconverter_exporter": null,
   "pygments_lexer": "OCaml",
   "version": "4.08.1"
  }
 },
 "nbformat": 4,
 "nbformat_minor": 5
}
