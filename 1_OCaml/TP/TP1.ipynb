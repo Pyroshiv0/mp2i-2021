{
 "cells": [
  {
   "cell_type": "markdown",
   "id": "e5f3d70e",
   "metadata": {
    "tags": []
   },
   "source": [
    "# Types\n",
    "\n",
    "Devinez le type des fonctions suivantes et vérifier avec OCaml :\n",
    "```ocaml\n",
    "let f x y = x**y\n",
    "```\n",
    "```ocaml\n",
    "let g x y = x (y + 1)\n",
    "```\n",
    "```ocaml\n",
    "let h x y z = x (3. *. (y z)) + 1\n",
    "```\n",
    "Puis utilisez ces fonctions sur des arguments de votre choix."
   ]
  },
  {
   "cell_type": "code",
   "execution_count": null,
   "id": "b42445b3-f0bb-4bc4-be15-ff66e976a800",
   "metadata": {},
   "outputs": [],
   "source": [
    "f:float->float->float"
   ]
  },
  {
   "cell_type": "code",
   "execution_count": 1,
   "id": "0f27e3d5-cb67-445b-8521-b17ab6eceeb0",
   "metadata": {},
   "outputs": [
    {
     "data": {
      "text/plain": [
       "val f : float -> float -> float = <fun>\n"
      ]
     },
     "execution_count": 1,
     "metadata": {},
     "output_type": "execute_result"
    }
   ],
   "source": [
    "let f x y = x**y"
   ]
  },
  {
   "cell_type": "code",
   "execution_count": null,
   "id": "d4904a59-1da9-489e-a738-59a28b6dad34",
   "metadata": {},
   "outputs": [],
   "source": [
    "g:int->int->int->int*int"
   ]
  },
  {
   "cell_type": "code",
   "execution_count": 4,
   "id": "49b2f19c-281c-4e64-aa13-8d93a58a8e16",
   "metadata": {},
   "outputs": [
    {
     "data": {
      "text/plain": [
       "val g : (int -> 'a) -> int -> 'a = <fun>\n"
      ]
     },
     "execution_count": 4,
     "metadata": {},
     "output_type": "execute_result"
    }
   ],
   "source": [
    "let g x y = x (y + 1)"
   ]
  },
  {
   "cell_type": "code",
   "execution_count": null,
   "id": "be81548c-6e3b-4f7a-94cf-2775ed0ff285",
   "metadata": {},
   "outputs": [],
   "source": [
    "h:(float->a')->float->float->int"
   ]
  },
  {
   "cell_type": "code",
   "execution_count": 1,
   "id": "4393bcdd-28ba-4c88-a1df-c7bd14211d5b",
   "metadata": {},
   "outputs": [
    {
     "data": {
      "text/plain": [
       "val h : (float -> int) -> ('a -> float) -> 'a -> int = <fun>\n"
      ]
     },
     "execution_count": 1,
     "metadata": {},
     "output_type": "execute_result"
    }
   ],
   "source": [
    "let h x y z = x (3. *. (y z)) + 1"
   ]
  },
  {
   "cell_type": "markdown",
   "id": "2a10d305-a22b-48a9-9639-8b4047b41e96",
   "metadata": {
    "tags": []
   },
   "source": [
    "# Tangente hyperbolique\n",
    "\n",
    "Définir en OCaml la fonction $\\tanh : x \\longmapsto \\frac{e^x - e^{-x}}{e^x + e^{-x}}$ en utilisant un seul appel à la fonction `exp : float -> float` de OCaml."
   ]
  },
  {
   "cell_type": "code",
   "execution_count": 3,
   "id": "59dc3d15-695c-4fe9-aa93-ee4773f5b8a0",
   "metadata": {},
   "outputs": [
    {
     "data": {
      "text/plain": [
       "val tanh : float -> float = <fun>\n"
      ]
     },
     "execution_count": 3,
     "metadata": {},
     "output_type": "execute_result"
    }
   ],
   "source": [
    "let tanh x=\n",
    "    let ex a =exp a in\n",
    "    (ex(x)-.ex(-.x))/.(ex(x)+.ex(-.x))"
   ]
  },
  {
   "cell_type": "code",
   "execution_count": 5,
   "id": "27356cca-0c1c-4417-8763-a387b44a23a3",
   "metadata": {},
   "outputs": [
    {
     "data": {
      "text/plain": [
       "- : float = 0.995054753686730575\n"
      ]
     },
     "execution_count": 5,
     "metadata": {},
     "output_type": "execute_result"
    }
   ],
   "source": [
    "tanh 3."
   ]
  },
  {
   "cell_type": "markdown",
   "id": "fc8ce049",
   "metadata": {},
   "source": [
    "# Géométrie\n",
    "\n",
    "Le type `float*float` désigne un couple de flottant, représentant un point `p` dans $\\mathbb{R}^2$. On peut récupérer les coordonnées de `p` avec `let x, y = p` . Par exemple :"
   ]
  },
  {
   "cell_type": "code",
   "execution_count": 1,
   "id": "88e5be36",
   "metadata": {
    "execution": {
     "iopub.execute_input": "2021-09-06T11:40:05.869393Z",
     "iopub.status.busy": "2021-09-06T11:40:05.866912Z",
     "iopub.status.idle": "2021-09-06T11:40:05.875260Z",
     "shell.execute_reply": "2021-09-06T11:40:05.873454Z"
    }
   },
   "outputs": [
    {
     "data": {
      "text/plain": [
       "- : float = 2.1\n"
      ]
     },
     "execution_count": 1,
     "metadata": {},
     "output_type": "execute_result"
    }
   ],
   "source": [
    "let p = (2.1, 3.7) in (* exemple de point *)\n",
    "let x, y = p in (* récupération des coordonnées *)\n",
    "x;; (* affichage de x *)"
   ]
  },
  {
   "cell_type": "markdown",
   "id": "7c497359",
   "metadata": {},
   "source": [
    "**Exercice** Écrire une fonction `aire_boule : float -> float` telle que `aire_boule r` renvoie l'aire d'une boule (disque en dimension 3) de rayon `r`, c'est à dire $\\frac{4 \\pi r^3}{3}$. On pourra utiliser `Float.pi`."
   ]
  },
  {
   "cell_type": "code",
   "execution_count": 2,
   "id": "006cffe1-0301-4c8a-b658-aceeb6c40aec",
   "metadata": {},
   "outputs": [
    {
     "data": {
      "text/plain": [
       "val aire_boule : float -> float = <fun>\n"
      ]
     },
     "execution_count": 2,
     "metadata": {},
     "output_type": "execute_result"
    }
   ],
   "source": [
    "let aire_boule r= (4.*.Float.pi*.r**3.)/.3."
   ]
  },
  {
   "cell_type": "code",
   "execution_count": 5,
   "id": "b376671c-a48d-4eba-afcf-320daee31958",
   "metadata": {},
   "outputs": [
    {
     "data": {
      "text/plain": [
       "- : float = 4.18879020478639053\n"
      ]
     },
     "execution_count": 5,
     "metadata": {},
     "output_type": "execute_result"
    }
   ],
   "source": [
    "aire_boule 1."
   ]
  },
  {
   "cell_type": "markdown",
   "id": "33056159",
   "metadata": {},
   "source": [
    "**Exercice** Écrire une fonction `distance : float*float -> float*float -> float` telle que `distance p1 p2` renvoie la distance euclidienne entre les points `p1` et `p2`.  \n",
    "Vérifier que la distance entre $(0, 0)$ et $(1, 1)$ est (approximativement) $\\sqrt{2}$."
   ]
  },
  {
   "cell_type": "code",
   "execution_count": 27,
   "id": "0f5fe1c9-be10-4e71-9479-d6f347b0e0db",
   "metadata": {},
   "outputs": [
    {
     "data": {
      "text/plain": [
       "val distance : float * float -> float * float -> float = <fun>\n"
      ]
     },
     "execution_count": 27,
     "metadata": {},
     "output_type": "execute_result"
    }
   ],
   "source": [
    "let distance p1 p2=let x1,y1=p1 in\n",
    "    let x2,y2=p2 in\n",
    "    ((((x2-.x1)**2.)+.(y2-.y1)**2.)**0.5);;"
   ]
  },
  {
   "cell_type": "code",
   "execution_count": 28,
   "id": "41bea7a0-e697-4500-b4d1-46e7ba374ec4",
   "metadata": {},
   "outputs": [
    {
     "data": {
      "text/plain": [
       "- : float = 1.41421356237309515\n"
      ]
     },
     "execution_count": 28,
     "metadata": {},
     "output_type": "execute_result"
    }
   ],
   "source": [
    "distance (0.,0.) (1.,1.)"
   ]
  },
  {
   "cell_type": "code",
   "execution_count": 29,
   "id": "ba458760-99e6-41c7-bb03-a7338f5b5855",
   "metadata": {},
   "outputs": [
    {
     "data": {
      "text/plain": [
       "- : float = 1.41421356237309515\n"
      ]
     },
     "execution_count": 29,
     "metadata": {},
     "output_type": "execute_result"
    }
   ],
   "source": [
    "2.**0.5"
   ]
  },
  {
   "cell_type": "markdown",
   "id": "311d0730",
   "metadata": {},
   "source": [
    "**Exercice** Écrire une fonction `polaire : float*float -> float*float` qui, étant donné les coordonnées cartésiennes $(x, y)$ d'un point, renvoie ses coordonnées polaires $(r, \\theta)$. On pourra utiliser `cos` et `sin` en OCaml.  \n",
    "Quelles sont les coordonnées polaires de $(x, y) = (1, 1)$, de $(x, y) = (\\frac{\\sqrt{3}}{2}, \\frac{1}{2})$?"
   ]
  },
  {
   "cell_type": "code",
   "execution_count": 30,
   "id": "0c80365c-cd84-4e25-8d9d-75c319226c31",
   "metadata": {},
   "outputs": [
    {
     "data": {
      "text/plain": [
       "- : float = 1.57079632679489656\n"
      ]
     },
     "execution_count": 30,
     "metadata": {},
     "output_type": "execute_result"
    }
   ],
   "source": [
    "asin(1.)"
   ]
  },
  {
   "cell_type": "code",
   "execution_count": 31,
   "id": "374e9203-7389-4b16-b6d8-b9ec8d7b937f",
   "metadata": {},
   "outputs": [
    {
     "data": {
      "text/plain": [
       "val polaire : float * float -> float * float = <fun>\n"
      ]
     },
     "execution_count": 31,
     "metadata": {},
     "output_type": "execute_result"
    }
   ],
   "source": [
    "let polaire p=let x,y=p in\n",
    "    let r=distance (0.,0.) p in(*calcule r*)\n",
    "    let o1=acos(x/.r) in (*acos utilise la fonction arc cossinus pour retrouver têta ,ici o*)\n",
    "    let o2=asin(y/.r) in\n",
    "    let o= if o1-.o2<0.01 && o1-.o2>(-.0.01)(*on verifie que la différence entre les deux angles\n",
    "    est très faible pour déterminer leur égalité car on compare des flottants*)\n",
    "            then o1\n",
    "            else -.o1 in(*si ils ne sont pas égaux,c'est que l'algoritme a rebvoyé le mauvais angle car\n",
    "            on a cos(x)=cos(-x)*)\n",
    "    r,o;;\n",
    "    "
   ]
  },
  {
   "cell_type": "code",
   "execution_count": 32,
   "id": "98090710-9772-4b1b-9930-bffc32aa0736",
   "metadata": {},
   "outputs": [
    {
     "data": {
      "text/plain": [
       "- : float * float = (1.41421356237309515, 0.78539816339744839)\n"
      ]
     },
     "execution_count": 32,
     "metadata": {},
     "output_type": "execute_result"
    }
   ],
   "source": [
    "polaire(1.,1.)"
   ]
  },
  {
   "cell_type": "code",
   "execution_count": 33,
   "id": "29c86392-4c44-419e-9ea4-fe4372e10f43",
   "metadata": {},
   "outputs": [],
   "source": [
    "(*polaire(1.,1.)=(racine de 2,pi/4)*)"
   ]
  },
  {
   "cell_type": "code",
   "execution_count": 34,
   "id": "11e592c3-7c16-46f0-9855-f1a606d7fc88",
   "metadata": {},
   "outputs": [
    {
     "data": {
      "text/plain": [
       "- : float * float = (1., 0.523598775598298927)\n"
      ]
     },
     "execution_count": 34,
     "metadata": {},
     "output_type": "execute_result"
    }
   ],
   "source": [
    "polaire((3.**0.5)/.2.,0.5)"
   ]
  },
  {
   "cell_type": "code",
   "execution_count": 35,
   "id": "9f115d6b-d4bc-4ca6-8ada-864d35ac6660",
   "metadata": {},
   "outputs": [],
   "source": [
    "(*polaire(racine de 3 /2,1/2)=(1,pi/6)*)"
   ]
  },
  {
   "cell_type": "markdown",
   "id": "10dcf4cb",
   "metadata": {},
   "source": [
    "**Exercice** Écrire une fonction `milieu : float*float -> float*float -> float*float` telle que `milieu p1 p2` renvoie le milieu du segment d'extrémités `p1` et `p2`."
   ]
  },
  {
   "cell_type": "code",
   "execution_count": 36,
   "id": "487fd92d-7f55-4315-815d-1bb5896d6623",
   "metadata": {},
   "outputs": [
    {
     "data": {
      "text/plain": [
       "val milieu : float * float -> float * float -> float * float = <fun>\n"
      ]
     },
     "execution_count": 36,
     "metadata": {},
     "output_type": "execute_result"
    }
   ],
   "source": [
    "let milieu p1 p2=let x1,y1=p1 in\n",
    "    let x2,y2=p2 in\n",
    "    let xm=(x1+.x2)/.2. in\n",
    "    let ym=(y1+.y2)/.2. in\n",
    "    xm,ym;;"
   ]
  },
  {
   "cell_type": "code",
   "execution_count": 37,
   "id": "50b6f1b4-b991-4f18-baa6-6c8ad01759ef",
   "metadata": {},
   "outputs": [
    {
     "data": {
      "text/plain": [
       "- : float * float = (3., 3.)\n"
      ]
     },
     "execution_count": 37,
     "metadata": {},
     "output_type": "execute_result"
    }
   ],
   "source": [
    "milieu (2.,4.) (4.,2.)"
   ]
  },
  {
   "cell_type": "markdown",
   "id": "da58592f",
   "metadata": {},
   "source": [
    "**Exercice** Écrire une fonction `parallelogramme : float*float -> float*float -> float*float -> float*float -> bool` telle que `parallelogramme p1 p2 p3 p4` renvoie `true` si les points `p1`, `p2`, `p3`, `p4` forment un parallélogramme, c'est à dire si les côtés opposés sont (approximativement) de même longueur.  \n",
    "On fera attention à ne pas comparer 2 flottants avec `=`, mais regarder à la place si la différence est petite (< 0.001 par exemple)."
   ]
  },
  {
   "cell_type": "code",
   "execution_count": 54,
   "id": "1146f39f-010c-47d0-b8f0-47e66dcb77b9",
   "metadata": {},
   "outputs": [
    {
     "data": {
      "text/plain": [
       "val parallelogramme :\n",
       "  float * float -> float * float -> float * float -> float * float -> bool =\n",
       "  <fun>\n"
      ]
     },
     "execution_count": 54,
     "metadata": {},
     "output_type": "execute_result"
    }
   ],
   "source": [
    "let parallelogramme p1 p2 p3 p4=\n",
    "    (((distance p1 p2)-.(distance p3 p4))<0.01 && ((distance p1 p2)-.(distance p3 p4))>(-.0.01))&& \n",
    "    \n",
    "    (*compare [p1p2] et [p3p4]*)\n",
    "    (((distance p2 p3)-.(distance p4 p1))<0.01 && ((distance p2 p3)-.(distance p4 p1))> (-.0.01));;\n",
    "    (*compare [p2p3] et [p4p1]si les deux sont egaux renvoie true*)"
   ]
  },
  {
   "cell_type": "code",
   "execution_count": 55,
   "id": "8933c353-ae8b-47bd-a964-9a329ed5ddf3",
   "metadata": {},
   "outputs": [
    {
     "data": {
      "text/plain": [
       "- : float = 3.\n"
      ]
     },
     "execution_count": 55,
     "metadata": {},
     "output_type": "execute_result"
    }
   ],
   "source": [
    "distance (0.,0.) (3.0,0.)"
   ]
  },
  {
   "cell_type": "code",
   "execution_count": 56,
   "id": "133eef24-320a-4456-808f-a01490c2144f",
   "metadata": {},
   "outputs": [
    {
     "data": {
      "text/plain": [
       "- : float = 3.\n"
      ]
     },
     "execution_count": 56,
     "metadata": {},
     "output_type": "execute_result"
    }
   ],
   "source": [
    "distance(0.,3.) (3.,3.) "
   ]
  },
  {
   "cell_type": "code",
   "execution_count": 57,
   "id": "5600cb91-7dae-428e-9b76-6c3ee4c91e57",
   "metadata": {},
   "outputs": [
    {
     "data": {
      "text/plain": [
       "- : float = 3.\n"
      ]
     },
     "execution_count": 57,
     "metadata": {},
     "output_type": "execute_result"
    }
   ],
   "source": [
    "distance (3.0,0.) (3.,3.)"
   ]
  },
  {
   "cell_type": "code",
   "execution_count": 58,
   "id": "a143a31c-4706-4ed4-94a1-ea6430411d47",
   "metadata": {},
   "outputs": [
    {
     "data": {
      "text/plain": [
       "- : float = 3.\n"
      ]
     },
     "execution_count": 58,
     "metadata": {},
     "output_type": "execute_result"
    }
   ],
   "source": [
    "distance(0.,3.)(0.,0.)"
   ]
  },
  {
   "cell_type": "code",
   "execution_count": 59,
   "id": "c3fec17b-ff17-46e9-ad57-24152bfcebb2",
   "metadata": {},
   "outputs": [
    {
     "data": {
      "text/plain": [
       "- : bool = true\n"
      ]
     },
     "execution_count": 59,
     "metadata": {},
     "output_type": "execute_result"
    }
   ],
   "source": [
    "parallelogramme (0.,0.) (3.0,0.) (3.,3.) (0.,3.)"
   ]
  },
  {
   "cell_type": "code",
   "execution_count": 60,
   "id": "6907fdd0-ea65-4250-8e30-4e3a1db2107f",
   "metadata": {},
   "outputs": [
    {
     "data": {
      "text/plain": [
       "- : bool = false\n"
      ]
     },
     "execution_count": 60,
     "metadata": {},
     "output_type": "execute_result"
    }
   ],
   "source": [
    "parallelogramme (0.,1.) (3.0,1.) (3.,3.) (1.,3.)"
   ]
  },
  {
   "cell_type": "markdown",
   "id": "70f6ebc5",
   "metadata": {},
   "source": [
    "# Congruence\n",
    "\n",
    "Le but de cet exercice est de calculer $1357^{2013}$ mod $5$ (mais la méthode utilisée s'applique dans un grande nombre d'exercices mathématiques).  \n",
    "On rappelle que les congruences sont compatibles avec la puissance :\n",
    "$$a \\equiv b [n] \\Longrightarrow a^k \\equiv b^k [n]$$\n",
    "\n",
    "1. Soit $k$ un entier positif. Que vaut $2^{4k}$ mod $5$? On pourra calculer des valeurs avec OCaml puis le démontrer mathématiquement.\n",
    "2. Que vaut $1357$ mod $5$? En déduire la valeur de $1357^{2013}$ mod $5$."
   ]
  },
  {
   "cell_type": "markdown",
   "id": "41c60907",
   "metadata": {},
   "source": [
    "# Nombres aléatoires\n",
    "\n",
    "`Random.int n` permet d'obtenir un entier uniformément au hasard entre 0 et `n - 1` (chacun de ces entiers a la même probabilité $\\frac{1}{n}$ d'être obtenu).  \n",
    "Dans cet exercice, on imagine que l'on possède comme seule source aléatoire un dé à 5 faces (c'est à dire que l'on a seulement le droit d'utiliser `Random.int 5`).\n",
    "\n",
    "1. Calculer `(Random.int 5) + (Random.int 5)` plusieurs fois. Est-ce que le résultat vous semble être un entier uniformément au hasard entre 0 et 8?  \n",
    "2. Quelle est la probabilité d'obtenir `0` avec `(Random.int 5) + (Random.int 5)`? D'obtenir `1`? Quelle est l'entier qui a le plus de chances d'apparaître?\n",
    "3. Comment générer uniformément un entier entre 0 et 24? (C'est à dire passer de 5 possibilités à 25)\n",
    "3. Comment générer uniformément un entier entre 0 et 6? Écrire une fonction pour le faire. On utilisera une méthode par rejection (rejection sampling) : générer dans un espace plus grand et regénérer si la valeur n'est pas dans l'intervalle souhaité.  \n",
    "Pour cela on utilisera une boucle while :\n",
    "```ocaml\n",
    "while ... do\n",
    "    ...\n",
    "done\n",
    "```"
   ]
  },
  {
   "cell_type": "code",
   "execution_count": null,
   "id": "2beff3cf",
   "metadata": {},
   "outputs": [],
   "source": []
  }
 ],
 "metadata": {
  "kernelspec": {
   "display_name": "OCaml default",
   "language": "OCaml",
   "name": "ocaml-jupyter"
  },
  "language_info": {
   "codemirror_mode": "text/x-ocaml",
   "file_extension": ".ml",
   "mimetype": "text/x-ocaml",
   "name": "OCaml",
   "nbconverter_exporter": null,
   "pygments_lexer": "OCaml",
   "version": "4.08.1"
  }
 },
 "nbformat": 4,
 "nbformat_minor": 5
}

